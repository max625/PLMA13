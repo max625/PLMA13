{
  "nbformat": 4,
  "nbformat_minor": 0,
  "metadata": {
    "colab": {
      "provenance": []
    },
    "kernelspec": {
      "name": "python3",
      "display_name": "Python 3"
    },
    "language_info": {
      "name": "python"
    }
  },
  "cells": [
    {
      "cell_type": "code",
      "execution_count": 4,
      "metadata": {
        "colab": {
          "base_uri": "https://localhost:8080/"
        },
        "id": "Qn_8rdDOu1LG",
        "outputId": "cdfd483d-2c59-4a2e-f41a-9230febbf83f"
      },
      "outputs": [
        {
          "output_type": "stream",
          "name": "stdout",
          "text": [
            "聖誕樹層數：10\n",
            "          *\n",
            "         ***\n",
            "        *****\n",
            "       *******\n",
            "      *********\n",
            "     ***********\n",
            "    *************\n",
            "   ***************\n",
            "  *****************\n",
            " *******************\n",
            "         ***\n",
            "         ***\n",
            "         ***\n",
            "         ***\n",
            "         ***\n"
          ]
        }
      ],
      "source": [
        "def height(x):\n",
        "  if x>=7:\n",
        "    for a in range(x):\n",
        "      print((\" \"*(x-a))+(\"*\"*(2*a+1)))\n",
        "    if a ==(x-1):\n",
        "       for b in range(5):\n",
        "         print((\" \"*(x-1))+\"*\"*3)\n",
        "  else:\n",
        "    print('輸入層數至少七層')\n",
        "height(int(input(\"聖誕樹層數：\")))"
      ]
    },
    {
      "cell_type": "markdown",
      "source": [],
      "metadata": {
        "id": "0jrng-X1yO8E"
      }
    },
    {
      "cell_type": "code",
      "source": [
        "def BMI(h,w):\n",
        "    result=w/((h/100)**2)\n",
        "    return result\n",
        "try:\n",
        "  w=float(input('輸入體重(kg):'))\n",
        "  h=float(input('輸入身高(cm):'))\n",
        "  print(BMI(h,w))\n",
        "  if BMI(h,w)<18.5:\n",
        "    print('體位：過輕')\n",
        "  elif 18.5<=BMI(h,w)<24:\n",
        "    print('體位：適中')\n",
        "  elif 24<=BMI(h,w)<27:\n",
        "    print('體位：過重')\n",
        "  else:\n",
        "    print('體位：肥胖')\n",
        "except:\n",
        "    print(\"輸入內容錯誤\")"
      ],
      "metadata": {
        "colab": {
          "base_uri": "https://localhost:8080/"
        },
        "id": "9Inn0Capwd_t",
        "outputId": "664e8eaf-25dc-4478-c3af-b457cc7143f3"
      },
      "execution_count": 7,
      "outputs": [
        {
          "output_type": "stream",
          "name": "stdout",
          "text": [
            "輸入體重(kg):80\n",
            "輸入身高(cm):180\n",
            "24.691358024691358\n",
            "體位：過重\n"
          ]
        }
      ]
    }
  ]
}